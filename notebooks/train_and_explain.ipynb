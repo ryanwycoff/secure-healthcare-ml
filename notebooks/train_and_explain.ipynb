{
 "cells": [
  {
   "cell_type": "code",
   "execution_count": null,
   "id": "c534f080",
   "metadata": {
    "vscode": {
     "languageId": "plaintext"
    }
   },
   "outputs": [],
   "source": [
    "# secure-healthcare-ml/notebooks/train_and_explain.ipynb\n",
    "\n",
    "# Import necessary libraries\n",
    "import pandas as pd\n",
    "import numpy as np\n",
    "import shap\n",
    "from sklearn.model_selection import train_test_split\n",
    "from sklearn.ensemble import RandomForestClassifier\n",
    "from secure_healthcare_ml.explainability.shap_explainer import SHAPExplainer\n",
    "\n",
    "# Load synthetic healthcare data\n",
    "data_path = '../data/synthetic_fhir_data.csv'\n",
    "df = pd.read_csv(data_path)\n",
    "\n",
    "# Show a sample of the data\n",
    "df.head()\n",
    "\n",
    "# Preprocess the data (example: drop non-numeric columns and handle missing values)\n",
    "# Assuming the data has 'target' column and feature columns\n",
    "X = df.drop(columns=['target'])\n",
    "y = df['target']\n",
    "\n",
    "# Handle any missing values (for simplicity, we'll fill missing values with mean)\n",
    "X.fillna(X.mean(), inplace=True)\n",
    "\n",
    "# Split the data into training and testing sets\n",
    "X_train, X_test, y_train, y_test = train_test_split(X, y, test_size=0.3, random_state=42)\n",
    "\n",
    "# Train a RandomForest model\n",
    "model = RandomForestClassifier(n_estimators=100, random_state=42)\n",
    "model.fit(X_train, y_train)\n",
    "\n",
    "# Print model performance on the test set\n",
    "print(f\"Model accuracy: {model.score(X_test, y_test):.4f}\")\n",
    "\n",
    "# Initialize SHAP explainer with the trained model\n",
    "explainer = SHAPExplainer(model, feature_names=X.columns)\n",
    "\n",
    "# Generate SHAP values for the test set\n",
    "shap_values = explainer.explain(X_test)\n",
    "\n",
    "# Visualize the SHAP summary plot to understand feature importance\n",
    "shap.summary_plot(shap_values, X_test, feature_names=X.columns)\n",
    "\n",
    "# Explain a single instance's prediction using SHAP force plot\n",
    "# Here we explain the first instance in the test set\n",
    "shap.initjs()  # Initialize SHAP JavaScript visualization\n",
    "instance_idx = 0  # Choose the index of the instance to explain\n",
    "shap.force_plot(shap_values[instance_idx].values, shap_values[instance_idx].base_values, X_test.iloc[instance_idx])\n",
    "\n",
    "# You can also visualize the local explanation for other instances by changing the index\n"
   ]
  }
 ],
 "metadata": {
  "language_info": {
   "name": "python"
  }
 },
 "nbformat": 4,
 "nbformat_minor": 5
}
